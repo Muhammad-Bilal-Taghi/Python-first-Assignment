{
 "cells": [
  {
   "cell_type": "code",
   "execution_count": 1,
   "id": "4de7702b",
   "metadata": {},
   "outputs": [
    {
     "name": "stdout",
     "output_type": "stream",
     "text": [
      "Twinkle,twinkle little star, \n",
      "        How I wonder what you are! \n",
      "                Up above the world so high, \n",
      "                 Like a diamond in the sky.  \n",
      "Twinkle,twinkle,little star, \n",
      "        How I wonder what you are\n"
     ]
    }
   ],
   "source": [
    "print(\"Twinkle,twinkle little star, \\n        How I wonder what you are! \\n                Up above the world so high, \\n                 Like a diamond in the sky.  \\nTwinkle,twinkle,little star, \\n        How I wonder what you are\")\n",
    "     \n"
   ]
  },
  {
   "cell_type": "code",
   "execution_count": 1,
   "id": "324ec8ea",
   "metadata": {},
   "outputs": [
    {
     "name": "stdout",
     "output_type": "stream",
     "text": [
      "Python version\n",
      "3.8.8 (default, Apr 13 2021, 15:08:07) [MSC v.1916 32 bit (Intel)]\n",
      "Version info.\n",
      "sys.version_info(major=3, minor=8, micro=8, releaselevel='final', serial=0)\n"
     ]
    }
   ],
   "source": [
    "#2#\n",
    "import sys\n",
    "print(\"Python version\")\n",
    "print (sys.version)\n",
    "print(\"Version info.\")\n",
    "print (sys.version_info)"
   ]
  },
  {
   "cell_type": "code",
   "execution_count": 4,
   "id": "8a8d0c66",
   "metadata": {},
   "outputs": [
    {
     "name": "stdout",
     "output_type": "stream",
     "text": [
      "Current date and time : \n",
      "2021-12-31 23:08:21\n"
     ]
    }
   ],
   "source": [
    "import datetime\n",
    "now = datetime.datetime.now()\n",
    "print (\"Current date and time : \")\n",
    "print (now.strftime(\"%Y-%m-%d %H:%M:%S\"))"
   ]
  },
  {
   "cell_type": "code",
   "execution_count": 5,
   "id": "43092f10",
   "metadata": {},
   "outputs": [
    {
     "name": "stdout",
     "output_type": "stream",
     "text": [
      "Input the radius of the circle 1\n",
      "The area of the circle with radius 1.0 is 3.141592653589793\n"
     ]
    }
   ],
   "source": [
    "from math import pi \n",
    "r = float(input(\"Input the radius of the circle \"))\n",
    "print (\"The area of the circle with radius \" + str(r) + \" is \" + str(pi * r**2))"
   ]
  },
  {
   "cell_type": "code",
   "execution_count": null,
   "id": "9524161d",
   "metadata": {},
   "outputs": [],
   "source": []
  },
  {
   "cell_type": "code",
   "execution_count": 8,
   "id": "a49b936a",
   "metadata": {},
   "outputs": [
    {
     "name": "stdout",
     "output_type": "stream",
     "text": [
      "Input your first name:Taghi\n",
      "Input your last name:Bilal\n",
      "Bilal Taghi\n"
     ]
    }
   ],
   "source": [
    "#5#\n",
    "firstname = input(\"Input your first name:\")\n",
    "lastname = input(\"Input your last name:\")\n",
    "print (lastname + \" \" + firstname)"
   ]
  },
  {
   "cell_type": "code",
   "execution_count": 9,
   "id": "12fe98e9",
   "metadata": {},
   "outputs": [
    {
     "name": "stdout",
     "output_type": "stream",
     "text": [
      " Enter 1st number 82\n",
      " Enter 2nd number 45\n",
      " Answer is  127\n"
     ]
    }
   ],
   "source": [
    "#6#\n",
    "a = int(input(\" Enter 1st number \"));\n",
    "b = int(input(\" Enter 2nd number \"));\n",
    "print (\" Answer is \", a+b )"
   ]
  },
  {
   "cell_type": "code",
   "execution_count": null,
   "id": "61aa169d",
   "metadata": {},
   "outputs": [],
   "source": []
  }
 ],
 "metadata": {
  "kernelspec": {
   "display_name": "Python 3",
   "language": "python",
   "name": "python3"
  }
 },
 "nbformat": 4,
 "nbformat_minor": 5
}
